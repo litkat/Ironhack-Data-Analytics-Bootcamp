{
 "cells": [
  {
   "cell_type": "code",
   "execution_count": 3,
   "metadata": {},
   "outputs": [],
   "source": [
    "import pandas as pd\n",
    "import requests\n",
    "import json\n",
    "\n",
    "import getpass "
   ]
  },
  {
   "cell_type": "code",
   "execution_count": 4,
   "metadata": {},
   "outputs": [
    {
     "name": "stdout",
     "output_type": "stream",
     "text": [
      "Enter CLIENT_ID········\n",
      "Enter CLIENT_SECRET········\n"
     ]
    }
   ],
   "source": [
    "CLIENT_ID = getpass.getpass('Enter CLIENT_ID')\n",
    "CLIENT_SECRET = getpass.getpass('Enter CLIENT_SECRET')"
   ]
  },
  {
   "cell_type": "code",
   "execution_count": 5,
   "metadata": {},
   "outputs": [],
   "source": [
    "AUTH_URL = 'https://accounts.spotify.com/api/token'\n",
    "\n",
    "auth_response = requests.post(AUTH_URL, {\n",
    "    'grant_type': 'client_credentials',\n",
    "    'client_id': CLIENT_ID,\n",
    "    'client_secret': CLIENT_SECRET,\n",
    "})"
   ]
  },
  {
   "cell_type": "code",
   "execution_count": 6,
   "metadata": {},
   "outputs": [],
   "source": [
    "auth_response_data = auth_response.json()\n",
    "\n",
    "access_token = auth_response_data['access_token']"
   ]
  },
  {
   "cell_type": "code",
   "execution_count": 7,
   "metadata": {},
   "outputs": [],
   "source": [
    "headers = {\n",
    "    'Authorization': 'Bearer {token}'.format(token=access_token)\n",
    "}"
   ]
  },
  {
   "cell_type": "markdown",
   "metadata": {},
   "source": [
    "### Get tracklist \"Ironhack DAFT 2201 - First Music\""
   ]
  },
  {
   "cell_type": "code",
   "execution_count": 8,
   "metadata": {},
   "outputs": [],
   "source": [
    "# base URL of all Spotify API endpoints\n",
    "BASE_URL = 'https://api.spotify.com/v1/'\n",
    "\n",
    "# Track ID from the URI\n",
    "playlist_id = '5pQVH0EJssqt4KDXPQVwv3'\n",
    "#playlist_id = '37i9dQZF1DXdKMCnEhDnDL'\n",
    "\n",
    "# actual GET request with proper header\n",
    "r = requests.get(BASE_URL + 'playlists/' + playlist_id + '/tracks?fields=items(track(name, artists(name)))', headers=headers)\n"
   ]
  },
  {
   "cell_type": "code",
   "execution_count": 9,
   "metadata": {},
   "outputs": [
    {
     "data": {
      "text/plain": [
       "{'items': [{'track': {'artists': [{'name': 'Haddaway'}],\n",
       "    'name': 'What Is Love - 7\" Mix'}},\n",
       "  {'track': {'artists': [{'name': 'Foo Fighters'}], 'name': 'Big Me'}},\n",
       "  {'track': {'artists': [{'name': 'Red Hot Chili Peppers'}],\n",
       "    'name': 'Under the Bridge'}},\n",
       "  {'track': {'artists': [{'name': 'The Prodigy'}], 'name': 'Breathe'}},\n",
       "  {'track': {'artists': [{'name': 'Red Hot Chili Peppers'}],\n",
       "    'name': 'Scar Tissue'}},\n",
       "  {'track': {'artists': [{'name': 'The All-American Rejects'}],\n",
       "    'name': 'Dirty Little Secret'}},\n",
       "  {'track': {'artists': [{'name': '2Pac'}, {'name': 'Talent'}],\n",
       "    'name': 'Changes'}},\n",
       "  {'track': {'artists': [{'name': 'U2'}],\n",
       "    'name': \"I Still Haven't Found What I'm Looking For\"}},\n",
       "  {'track': {'artists': [{'name': 'Melendi'}],\n",
       "    'name': 'Caminando por la vida'}},\n",
       "  {'track': {'artists': [{'name': 'Kiko y Shara'}, {'name': 'Shara'}],\n",
       "    'name': 'Adolescentes'}},\n",
       "  {'track': {'artists': [{'name': '2Baba'}], 'name': 'Appreciate It'}},\n",
       "  {'track': {'artists': [{'name': 'Queen'}], 'name': 'Bohemian Rhapsody'}},\n",
       "  {'track': {'artists': [{'name': 'Linkin Park'}],\n",
       "    'name': 'Points of Authority'}},\n",
       "  {'track': {'artists': [{'name': 'Bon Jovi'}],\n",
       "    'name': 'You Give Love A Bad Name'}},\n",
       "  {'track': {'artists': [{'name': 'Rose Royce'}],\n",
       "    'name': 'Wishing on a Star'}}]}"
      ]
     },
     "execution_count": 9,
     "metadata": {},
     "output_type": "execute_result"
    }
   ],
   "source": [
    "r.json()"
   ]
  },
  {
   "cell_type": "code",
   "execution_count": 10,
   "metadata": {},
   "outputs": [],
   "source": [
    "artist = []\n",
    "title = []\n",
    "\n",
    "for i in r.json()['items']:\n",
    "    # Since there can be multiple artists for one track, we need to join it to one string\n",
    "    a_list = [name['name'] for name in i['track']['artists']]\n",
    "    artists = ', '.join(a_list)\n",
    "    # Appending resulting data to lists\n",
    "    artist.append(artists)\n",
    "    title.append(i['track']['name'])"
   ]
  },
  {
   "cell_type": "code",
   "execution_count": 11,
   "metadata": {},
   "outputs": [
    {
     "data": {
      "text/html": [
       "<div>\n",
       "<style scoped>\n",
       "    .dataframe tbody tr th:only-of-type {\n",
       "        vertical-align: middle;\n",
       "    }\n",
       "\n",
       "    .dataframe tbody tr th {\n",
       "        vertical-align: top;\n",
       "    }\n",
       "\n",
       "    .dataframe thead th {\n",
       "        text-align: right;\n",
       "    }\n",
       "</style>\n",
       "<table border=\"1\" class=\"dataframe\">\n",
       "  <thead>\n",
       "    <tr style=\"text-align: right;\">\n",
       "      <th></th>\n",
       "      <th>song</th>\n",
       "      <th>artist</th>\n",
       "    </tr>\n",
       "  </thead>\n",
       "  <tbody>\n",
       "    <tr>\n",
       "      <th>0</th>\n",
       "      <td>What Is Love - 7\" Mix</td>\n",
       "      <td>Haddaway</td>\n",
       "    </tr>\n",
       "    <tr>\n",
       "      <th>1</th>\n",
       "      <td>Big Me</td>\n",
       "      <td>Foo Fighters</td>\n",
       "    </tr>\n",
       "    <tr>\n",
       "      <th>2</th>\n",
       "      <td>Under the Bridge</td>\n",
       "      <td>Red Hot Chili Peppers</td>\n",
       "    </tr>\n",
       "    <tr>\n",
       "      <th>3</th>\n",
       "      <td>Breathe</td>\n",
       "      <td>The Prodigy</td>\n",
       "    </tr>\n",
       "    <tr>\n",
       "      <th>4</th>\n",
       "      <td>Scar Tissue</td>\n",
       "      <td>Red Hot Chili Peppers</td>\n",
       "    </tr>\n",
       "    <tr>\n",
       "      <th>5</th>\n",
       "      <td>Dirty Little Secret</td>\n",
       "      <td>The All-American Rejects</td>\n",
       "    </tr>\n",
       "    <tr>\n",
       "      <th>6</th>\n",
       "      <td>Changes</td>\n",
       "      <td>2Pac, Talent</td>\n",
       "    </tr>\n",
       "    <tr>\n",
       "      <th>7</th>\n",
       "      <td>I Still Haven't Found What I'm Looking For</td>\n",
       "      <td>U2</td>\n",
       "    </tr>\n",
       "    <tr>\n",
       "      <th>8</th>\n",
       "      <td>Caminando por la vida</td>\n",
       "      <td>Melendi</td>\n",
       "    </tr>\n",
       "    <tr>\n",
       "      <th>9</th>\n",
       "      <td>Adolescentes</td>\n",
       "      <td>Kiko y Shara, Shara</td>\n",
       "    </tr>\n",
       "    <tr>\n",
       "      <th>10</th>\n",
       "      <td>Appreciate It</td>\n",
       "      <td>2Baba</td>\n",
       "    </tr>\n",
       "    <tr>\n",
       "      <th>11</th>\n",
       "      <td>Bohemian Rhapsody</td>\n",
       "      <td>Queen</td>\n",
       "    </tr>\n",
       "    <tr>\n",
       "      <th>12</th>\n",
       "      <td>Points of Authority</td>\n",
       "      <td>Linkin Park</td>\n",
       "    </tr>\n",
       "    <tr>\n",
       "      <th>13</th>\n",
       "      <td>You Give Love A Bad Name</td>\n",
       "      <td>Bon Jovi</td>\n",
       "    </tr>\n",
       "    <tr>\n",
       "      <th>14</th>\n",
       "      <td>Wishing on a Star</td>\n",
       "      <td>Rose Royce</td>\n",
       "    </tr>\n",
       "  </tbody>\n",
       "</table>\n",
       "</div>"
      ],
      "text/plain": [
       "                                          song                    artist\n",
       "0                        What Is Love - 7\" Mix                  Haddaway\n",
       "1                                       Big Me              Foo Fighters\n",
       "2                             Under the Bridge     Red Hot Chili Peppers\n",
       "3                                      Breathe               The Prodigy\n",
       "4                                  Scar Tissue     Red Hot Chili Peppers\n",
       "5                          Dirty Little Secret  The All-American Rejects\n",
       "6                                      Changes              2Pac, Talent\n",
       "7   I Still Haven't Found What I'm Looking For                        U2\n",
       "8                        Caminando por la vida                   Melendi\n",
       "9                                 Adolescentes       Kiko y Shara, Shara\n",
       "10                               Appreciate It                     2Baba\n",
       "11                           Bohemian Rhapsody                     Queen\n",
       "12                         Points of Authority               Linkin Park\n",
       "13                    You Give Love A Bad Name                  Bon Jovi\n",
       "14                           Wishing on a Star                Rose Royce"
      ]
     },
     "execution_count": 11,
     "metadata": {},
     "output_type": "execute_result"
    }
   ],
   "source": [
    "pd.DataFrame({'song':title, 'artist':artist})"
   ]
  },
  {
   "cell_type": "markdown",
   "metadata": {},
   "source": [
    "### GET ARTIST TOP TRACKS"
   ]
  },
  {
   "cell_type": "code",
   "execution_count": 12,
   "metadata": {},
   "outputs": [],
   "source": [
    "# Track ID from the URI\n",
    "artist_id = '4c4Ce4N4vJOs3Tzee020S4'\n",
    "\n",
    "# actual GET request with proper header\n",
    "art_top = requests.get(BASE_URL + 'artists/' + artist_id + '/top-tracks?market=NL', headers=headers)\n"
   ]
  },
  {
   "cell_type": "code",
   "execution_count": 1,
   "metadata": {},
   "outputs": [],
   "source": [
    "## Uncomment to see the json structure\n",
    "\n",
    "# import pprint\n",
    "# pprint.pprint(art_top.json()) "
   ]
  },
  {
   "cell_type": "code",
   "execution_count": 14,
   "metadata": {},
   "outputs": [
    {
     "name": "stdout",
     "output_type": "stream",
     "text": [
      "Planet Funk\n",
      "Planet Funk\n",
      "Planet Funk\n",
      "Planet Funk\n",
      "Planet Funk\n",
      "Planet Funk\n",
      "Planet Funk\n",
      "Planet Funk, Consoul Trainin\n",
      "Planet Funk\n",
      "Planet Funk\n"
     ]
    }
   ],
   "source": [
    "album = []\n",
    "a_songs = []\n",
    "a_artists = []\n",
    "\n",
    "for i in art_top.json()['tracks']:\n",
    "    # Since there can be multiple artists for one track, we need to join it to one string\n",
    "    a_list = [name['name'] for name in i['artists']]\n",
    "    artists = ', '.join(a_list)\n",
    "    print(artists)\n",
    "    album.append(i['album']['name'])\n",
    "    a_songs.append(i['name'])\n",
    "    a_artists.append(artists)"
   ]
  },
  {
   "cell_type": "code",
   "execution_count": 15,
   "metadata": {},
   "outputs": [
    {
     "data": {
      "text/html": [
       "<div>\n",
       "<style scoped>\n",
       "    .dataframe tbody tr th:only-of-type {\n",
       "        vertical-align: middle;\n",
       "    }\n",
       "\n",
       "    .dataframe tbody tr th {\n",
       "        vertical-align: top;\n",
       "    }\n",
       "\n",
       "    .dataframe thead th {\n",
       "        text-align: right;\n",
       "    }\n",
       "</style>\n",
       "<table border=\"1\" class=\"dataframe\">\n",
       "  <thead>\n",
       "    <tr style=\"text-align: right;\">\n",
       "      <th></th>\n",
       "      <th>artist</th>\n",
       "      <th>song</th>\n",
       "      <th>album</th>\n",
       "    </tr>\n",
       "  </thead>\n",
       "  <tbody>\n",
       "    <tr>\n",
       "      <th>0</th>\n",
       "      <td>Planet Funk</td>\n",
       "      <td>Chase the Sun</td>\n",
       "      <td>Non Zero Sumness Plus One</td>\n",
       "    </tr>\n",
       "    <tr>\n",
       "      <th>1</th>\n",
       "      <td>Planet Funk</td>\n",
       "      <td>Who Said</td>\n",
       "      <td>Non Zero Sumness Plus One</td>\n",
       "    </tr>\n",
       "    <tr>\n",
       "      <th>2</th>\n",
       "      <td>Planet Funk</td>\n",
       "      <td>Another Sunrise</td>\n",
       "      <td>The Great Shake +2</td>\n",
       "    </tr>\n",
       "    <tr>\n",
       "      <th>3</th>\n",
       "      <td>Planet Funk</td>\n",
       "      <td>These Boots Are Made for Walkin’</td>\n",
       "      <td>The Great Shake +2</td>\n",
       "    </tr>\n",
       "    <tr>\n",
       "      <th>4</th>\n",
       "      <td>Planet Funk</td>\n",
       "      <td>Lemonade</td>\n",
       "      <td>20:20</td>\n",
       "    </tr>\n",
       "    <tr>\n",
       "      <th>5</th>\n",
       "      <td>Planet Funk</td>\n",
       "      <td>Inside All the People</td>\n",
       "      <td>Non Zero Sumness Plus One</td>\n",
       "    </tr>\n",
       "    <tr>\n",
       "      <th>6</th>\n",
       "      <td>Planet Funk</td>\n",
       "      <td>The Switch</td>\n",
       "      <td>20:20</td>\n",
       "    </tr>\n",
       "    <tr>\n",
       "      <th>7</th>\n",
       "      <td>Planet Funk, Consoul Trainin</td>\n",
       "      <td>Chase The Sun - Consoul Trainin Remix</td>\n",
       "      <td>Chase The Sun (Remixes)</td>\n",
       "    </tr>\n",
       "    <tr>\n",
       "      <th>8</th>\n",
       "      <td>Planet Funk</td>\n",
       "      <td>Inside All the People - Harvey's Ibiza Sleepy Mix</td>\n",
       "      <td>20:20</td>\n",
       "    </tr>\n",
       "    <tr>\n",
       "      <th>9</th>\n",
       "      <td>Planet Funk</td>\n",
       "      <td>Under the Rain</td>\n",
       "      <td>Non Zero Sumness Plus One</td>\n",
       "    </tr>\n",
       "  </tbody>\n",
       "</table>\n",
       "</div>"
      ],
      "text/plain": [
       "                         artist  \\\n",
       "0                   Planet Funk   \n",
       "1                   Planet Funk   \n",
       "2                   Planet Funk   \n",
       "3                   Planet Funk   \n",
       "4                   Planet Funk   \n",
       "5                   Planet Funk   \n",
       "6                   Planet Funk   \n",
       "7  Planet Funk, Consoul Trainin   \n",
       "8                   Planet Funk   \n",
       "9                   Planet Funk   \n",
       "\n",
       "                                                song  \\\n",
       "0                                      Chase the Sun   \n",
       "1                                           Who Said   \n",
       "2                                    Another Sunrise   \n",
       "3                   These Boots Are Made for Walkin’   \n",
       "4                                           Lemonade   \n",
       "5                              Inside All the People   \n",
       "6                                         The Switch   \n",
       "7              Chase The Sun - Consoul Trainin Remix   \n",
       "8  Inside All the People - Harvey's Ibiza Sleepy Mix   \n",
       "9                                     Under the Rain   \n",
       "\n",
       "                       album  \n",
       "0  Non Zero Sumness Plus One  \n",
       "1  Non Zero Sumness Plus One  \n",
       "2         The Great Shake +2  \n",
       "3         The Great Shake +2  \n",
       "4                      20:20  \n",
       "5  Non Zero Sumness Plus One  \n",
       "6                      20:20  \n",
       "7    Chase The Sun (Remixes)  \n",
       "8                      20:20  \n",
       "9  Non Zero Sumness Plus One  "
      ]
     },
     "execution_count": 15,
     "metadata": {},
     "output_type": "execute_result"
    }
   ],
   "source": [
    "pd.DataFrame({'artist':a_artists, 'song':a_songs, 'album':album})"
   ]
  }
 ],
 "metadata": {
  "kernelspec": {
   "display_name": "Python 3",
   "language": "python",
   "name": "python3"
  },
  "language_info": {
   "codemirror_mode": {
    "name": "ipython",
    "version": 3
   },
   "file_extension": ".py",
   "mimetype": "text/x-python",
   "name": "python",
   "nbconvert_exporter": "python",
   "pygments_lexer": "ipython3",
   "version": "3.8.5"
  }
 },
 "nbformat": 4,
 "nbformat_minor": 4
}
